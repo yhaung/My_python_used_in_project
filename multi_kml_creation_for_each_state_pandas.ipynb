{
 "cells": [
  {
   "cell_type": "markdown",
   "metadata": {},
   "source": [
    "# lat,lon, name data are save as kml on each state"
   ]
  },
  {
   "cell_type": "code",
   "execution_count": 8,
   "metadata": {},
   "outputs": [],
   "source": [
    "# import pandas\n",
    "import pandas as pd"
   ]
  },
  {
   "cell_type": "code",
   "execution_count": 9,
   "metadata": {},
   "outputs": [
    {
     "data": {
      "text/html": [
       "<div>\n",
       "<style scoped>\n",
       "    .dataframe tbody tr th:only-of-type {\n",
       "        vertical-align: middle;\n",
       "    }\n",
       "\n",
       "    .dataframe tbody tr th {\n",
       "        vertical-align: top;\n",
       "    }\n",
       "\n",
       "    .dataframe thead th {\n",
       "        text-align: right;\n",
       "    }\n",
       "</style>\n",
       "<table border=\"1\" class=\"dataframe\">\n",
       "  <thead>\n",
       "    <tr style=\"text-align: right;\">\n",
       "      <th></th>\n",
       "      <th>SR_Name_Eng</th>\n",
       "      <th>Village_Name_Eng</th>\n",
       "      <th>Longitude</th>\n",
       "      <th>Latitude</th>\n",
       "    </tr>\n",
       "  </thead>\n",
       "  <tbody>\n",
       "    <tr>\n",
       "      <th>0</th>\n",
       "      <td>Ayeyarwady</td>\n",
       "      <td>Da None Chaung</td>\n",
       "      <td>95.360931</td>\n",
       "      <td>16.189430</td>\n",
       "    </tr>\n",
       "    <tr>\n",
       "      <th>1</th>\n",
       "      <td>Ayeyarwady</td>\n",
       "      <td>Hteik Chaung</td>\n",
       "      <td>95.317284</td>\n",
       "      <td>16.139151</td>\n",
       "    </tr>\n",
       "    <tr>\n",
       "      <th>2</th>\n",
       "      <td>Ayeyarwady</td>\n",
       "      <td>Kun Thee Chaung</td>\n",
       "      <td>95.335274</td>\n",
       "      <td>16.146061</td>\n",
       "    </tr>\n",
       "    <tr>\n",
       "      <th>3</th>\n",
       "      <td>Ayeyarwady</td>\n",
       "      <td>Kyar Chaung</td>\n",
       "      <td>95.331573</td>\n",
       "      <td>16.188749</td>\n",
       "    </tr>\n",
       "    <tr>\n",
       "      <th>4</th>\n",
       "      <td>Ayeyarwady</td>\n",
       "      <td>Kyet Taung Chaung Sar Hpyu Su</td>\n",
       "      <td>95.362534</td>\n",
       "      <td>16.194571</td>\n",
       "    </tr>\n",
       "  </tbody>\n",
       "</table>\n",
       "</div>"
      ],
      "text/plain": [
       "  SR_Name_Eng               Village_Name_Eng  Longitude   Latitude\n",
       "0  Ayeyarwady                 Da None Chaung  95.360931  16.189430\n",
       "1  Ayeyarwady                   Hteik Chaung  95.317284  16.139151\n",
       "2  Ayeyarwady                Kun Thee Chaung  95.335274  16.146061\n",
       "3  Ayeyarwady                    Kyar Chaung  95.331573  16.188749\n",
       "4  Ayeyarwady  Kyet Taung Chaung Sar Hpyu Su  95.362534  16.194571"
      ]
     },
     "execution_count": 9,
     "metadata": {},
     "output_type": "execute_result"
    }
   ],
   "source": [
    "# read one of excel sheet from excel file\n",
    "df = pd.read_excel(r\"C:\\Users\\Ye\\Desktop\\Spatial_Analysis\\Myanmar PCodes Release-IX_Sep2019_Countrywide.xlsx\",sheet_name='_07_Villages')\n",
    "\n",
    "# column slicing\n",
    "df=df[:][['SR_Name_Eng','Village_Name_Eng','Longitude','Latitude']]\n",
    "\n",
    "# checking slicing column and view for head\n",
    "df.head()"
   ]
  },
  {
   "cell_type": "code",
   "execution_count": 10,
   "metadata": {},
   "outputs": [],
   "source": [
    "# remove unwanted columns and rows\n",
    "df=df.dropna()"
   ]
  },
  {
   "cell_type": "code",
   "execution_count": 11,
   "metadata": {},
   "outputs": [
    {
     "name": "stdout",
     "output_type": "stream",
     "text": [
      "{'Chin', 'Ayeyarwady', 'Nay Pyi Taw', 'Kachin', 'Bago (East)', 'Shan (South)', 'Magway', 'Mon', 'Kayin', 'Yangon', 'Bago (West)', 'Tanintharyi', 'Rakhine', 'Sagaing', 'Shan (East)', 'Shan (North)', 'Mandalay', 'Kayah'}\n"
     ]
    }
   ],
   "source": [
    "# kml content\n",
    "head = \"<?xml version=\\\"1.0\\\" encoding=\\\"UTF-8\\\"?><kml xmlns=\\\"http://www.opengis.net/kml/2.2\\\" xmlns:gx=\\\"http://www.google.com/kml/ext/2.2\\\" xmlns:kml=\\\"http://www.opengis.net/kml/2.2\\\" xmlns:atom=\\\"http://www.w3.org/2005/Atom\\\"><Document><Folder>\"\n",
    "ptend =\"</coordinates></Point></Placemark>\"\n",
    "tail=\"</Folder></Document></kml>\"\n",
    "\n",
    "# variable for altitude\n",
    "alt = 0\n",
    "\n",
    "# making list of all the state data\n",
    "state_list =set(df['SR_Name_Eng'])\n",
    "\n",
    "# check to see the list of state_list\n",
    "print(state_list)"
   ]
  },
  {
   "cell_type": "code",
   "execution_count": 16,
   "metadata": {},
   "outputs": [
    {
     "name": "stdout",
     "output_type": "stream",
     "text": [
      "Chin_is_successfully_converted\n",
      "Ayeyarwady_is_successfully_converted\n",
      "Nay Pyi Taw_is_successfully_converted\n",
      "Kachin_is_successfully_converted\n",
      "Bago (East)_is_successfully_converted\n",
      "Shan (South)_is_successfully_converted\n",
      "Magway_is_successfully_converted\n",
      "Mon_is_successfully_converted\n",
      "Kayin_is_successfully_converted\n",
      "Yangon_is_successfully_converted\n",
      "Bago (West)_is_successfully_converted\n",
      "Tanintharyi_is_successfully_converted\n",
      "Rakhine_is_successfully_converted\n",
      "Sagaing_is_successfully_converted\n",
      "Shan (East)_is_successfully_converted\n",
      "Shan (North)_is_successfully_converted\n",
      "Mandalay_is_successfully_converted\n",
      "Kayah_is_successfully_converted\n",
      "everything_is_finished\n",
      "9.534544229507446\n"
     ]
    }
   ],
   "source": [
    "import time\n",
    "start_time = time.time()\n",
    "\n",
    "\n",
    "\n",
    "# loop for state\n",
    "for state in state_list:\n",
    "    \n",
    "    # making variable for each villages\n",
    "    placemarks=\"\"\n",
    "    # Filter by state\n",
    "    df1=df.loc[df['SR_Name_Eng']==state]\n",
    "    \n",
    "    # iterate over rows with iterrows()\n",
    "    for index,row in df1.iterrows():\n",
    "        \n",
    "        # making variables for state, name, lat ,and lon\n",
    "        name=row['Village_Name_Eng']\n",
    "        lon=row['Longitude']\n",
    "        lat=row['Latitude']\n",
    "        \n",
    "        # condition for state (if eg.Yangon=Yangon = put all the data into the state)            \n",
    "        ptstart =f\"<Placemark><name>{name}</name> <Point> <coordinates>\"\n",
    "        coordinates=str(lon)+\",\"+str(lat)+\",\"+str(alt)\n",
    "        placemark =ptstart+coordinates+ptend\n",
    "        placemarks =placemarks+placemark\n",
    "            \n",
    "    # making variables for each state kml format    \n",
    "    kml_format =head+placemarks+tail\n",
    "        \n",
    "    # open file and write for each row on each state    \n",
    "    with open(r\"D:\\Programming\\Python_Summary_for_OMM\\Jupyter_notebook\\Auto GIS\\Pandas\\result\\village_\"+state+\".kml\",\"w\",encoding='utf-8') as file:\n",
    "        file.write(kml_format)\n",
    "        \n",
    "    print(state+\"_is_successfully_converted\")\n",
    "print(\"everything_is_finished\")\n",
    "\n",
    "\n",
    "end_time=time.time()\n",
    "print(str(end_time-start_time))\n"
   ]
  },
  {
   "cell_type": "code",
   "execution_count": null,
   "metadata": {},
   "outputs": [],
   "source": []
  },
  {
   "cell_type": "code",
   "execution_count": null,
   "metadata": {},
   "outputs": [],
   "source": []
  }
 ],
 "metadata": {
  "kernelspec": {
   "display_name": "Python 3",
   "language": "python",
   "name": "python3"
  },
  "language_info": {
   "codemirror_mode": {
    "name": "ipython",
    "version": 3
   },
   "file_extension": ".py",
   "mimetype": "text/x-python",
   "name": "python",
   "nbconvert_exporter": "python",
   "pygments_lexer": "ipython3",
   "version": "3.6.6"
  }
 },
 "nbformat": 4,
 "nbformat_minor": 2
}
